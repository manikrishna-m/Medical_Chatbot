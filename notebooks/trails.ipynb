{
 "cells": [
  {
   "cell_type": "code",
   "execution_count": 7,
   "metadata": {},
   "outputs": [],
   "source": [
    "from langchain import PromptTemplate\n",
    "from langchain.chains import RetrievalQA\n",
    "from langchain.embeddings import HuggingFaceEmbeddings\n",
    "from langchain.vectorstores import Pinecone\n",
    "import pinecone\n",
    "from langchain.document_loaders import PyPDFLoader, DirectoryLoader\n",
    "from langchain.text_splitter import RecursiveCharacterTextSplitter\n",
    "from langchain.prompts import PromptTemplate\n",
    "from langchain.llms import CTransformers"
   ]
  },
  {
   "cell_type": "code",
   "execution_count": 9,
   "metadata": {},
   "outputs": [],
   "source": [
    "# Extract data from the PDFs\n",
    "\n",
    "def load_pdf(data):\n",
    "    loader = DirectoryLoader(data,\n",
    "                    glob=\"*.pdf\",\n",
    "                    loader_cls = PyPDFLoader)\n",
    "    \n",
    "    documents = loader.load()\n",
    "\n",
    "    return documents"
   ]
  },
  {
   "cell_type": "code",
   "execution_count": 12,
   "metadata": {},
   "outputs": [],
   "source": [
    "extracted_data = load_pdf(\"../data/\")"
   ]
  },
  {
   "cell_type": "code",
   "execution_count": 13,
   "metadata": {},
   "outputs": [],
   "source": [
    "# Creating data chunks\n",
    "\n",
    "def text_split(extracted_data):\n",
    "    text_splitter = RecursiveCharacterTextSplitter(chunk_size = 500,\n",
    "                                   chunk_overlap = 20)\n",
    "    \n",
    "    text_chunks = text_splitter.split_documents(extracted_data)\n",
    "\n",
    "    return text_chunks"
   ]
  },
  {
   "cell_type": "code",
   "execution_count": 14,
   "metadata": {},
   "outputs": [],
   "source": [
    "text_chunks = text_split(extracted_data)"
   ]
  },
  {
   "cell_type": "code",
   "execution_count": 15,
   "metadata": {},
   "outputs": [
    {
     "name": "stdout",
     "output_type": "stream",
     "text": [
      "Length of chunks is 7020\n"
     ]
    }
   ],
   "source": [
    "print(f\"Length of chunks is {len(text_chunks)}\")"
   ]
  },
  {
   "cell_type": "code",
   "execution_count": 16,
   "metadata": {},
   "outputs": [],
   "source": [
    "# Download Embedding Models\n",
    "\n",
    "def download_hugging_face_embedding():\n",
    "    embeddings = HuggingFaceEmbeddings(model_name =\"sentence-transformers/all-MiniLM-L6-v2\")\n",
    "    return embeddings\n",
    "    "
   ]
  },
  {
   "cell_type": "code",
   "execution_count": 17,
   "metadata": {},
   "outputs": [],
   "source": [
    "embeddings = download_hugging_face_embedding()"
   ]
  },
  {
   "cell_type": "code",
   "execution_count": 18,
   "metadata": {},
   "outputs": [
    {
     "data": {
      "text/plain": [
       "HuggingFaceEmbeddings(client=SentenceTransformer(\n",
       "  (0): Transformer({'max_seq_length': 256, 'do_lower_case': False}) with Transformer model: BertModel \n",
       "  (1): Pooling({'word_embedding_dimension': 384, 'pooling_mode_cls_token': False, 'pooling_mode_mean_tokens': True, 'pooling_mode_max_tokens': False, 'pooling_mode_mean_sqrt_len_tokens': False})\n",
       "  (2): Normalize()\n",
       "), model_name='sentence-transformers/all-MiniLM-L6-v2', cache_folder=None, model_kwargs={}, encode_kwargs={})"
      ]
     },
     "execution_count": 18,
     "metadata": {},
     "output_type": "execute_result"
    }
   ],
   "source": [
    "embeddings"
   ]
  },
  {
   "cell_type": "code",
   "execution_count": 19,
   "metadata": {},
   "outputs": [
    {
     "name": "stdout",
     "output_type": "stream",
     "text": [
      "Length 384\n"
     ]
    }
   ],
   "source": [
    "query_result = embeddings.embed_query(\"Hello World\")\n",
    "print(\"Length\", len(query_result))"
   ]
  },
  {
   "cell_type": "code",
   "execution_count": 20,
   "metadata": {},
   "outputs": [
    {
     "name": "stdout",
     "output_type": "stream",
     "text": [
      "[-0.03447730466723442, 0.03102327696979046, 0.0067350068129599094, 0.026109062135219574, -0.03936205431818962, -0.16030248999595642, 0.06692402809858322, -0.006441421806812286, -0.047450464218854904, 0.014758830890059471, 0.07087530940771103, 0.055527493357658386, 0.019193366169929504, -0.026251330971717834, -0.010109709575772285, -0.026940545067191124, 0.022307490929961205, -0.022226646542549133, -0.1496925801038742, -0.017493097111582756, 0.007676301058381796, 0.054352376610040665, 0.0032545067369937897, 0.03172590956091881, -0.08462141454219818, -0.02940606325864792, 0.051595669239759445, 0.04812396690249443, -0.0033148089423775673, -0.05827924981713295, 0.04196939989924431, 0.022210612893104553, 0.128188818693161, -0.02233898639678955, -0.011656300164759159, 0.06292829662561417, -0.03287627920508385, -0.09122608602046967, -0.031175274401903152, 0.052699558436870575, 0.04703487083315849, -0.08420301228761673, -0.030056163668632507, -0.020744873210787773, 0.00951786246150732, -0.003721861867234111, 0.0073433020152151585, 0.039324309676885605, 0.09327402710914612, -0.0037886351346969604, -0.05274219065904617, -0.058058228343725204, -0.00686441408470273, 0.00528324581682682, 0.08289292454719543, 0.019362792372703552, 0.006284539122134447, -0.010330770164728165, 0.009032298810780048, -0.037683796137571335, -0.045206088572740555, 0.024016425013542175, -0.006944094784557819, 0.013491584919393063, 0.10005485266447067, -0.0716838538646698, -0.021695096045732498, 0.03161846473813057, -0.05163464695215225, -0.08224773406982422, -0.06569317728281021, -0.00989540759474039, 0.005816460587084293, 0.07355442643165588, -0.03405029699206352, 0.02488602325320244, 0.014488140121102333, 0.026457490399479866, 0.00965680181980133, 0.030217252671718597, 0.052803970873355865, -0.07535987347364426, 0.009897211566567421, 0.029836826026439667, 0.017555607482790947, 0.02309199795126915, 0.0019339991267770529, 0.0014001853996887803, -0.04717600718140602, -0.011194385588169098, -0.11420132219791412, -0.019811920821666718, 0.0402662418782711, 0.0021929696667939425, -0.07979219406843185, -0.025382252410054207, 0.0944829061627388, -0.028981033712625504, -0.14500245451927185, 0.23097732663154602, 0.0277311522513628, 0.03211146965622902, 0.03106505051255226, 0.04283292219042778, 0.06423775106668472, 0.0321631133556366, -0.004876646678894758, 0.05569946765899658, -0.03753240779042244, -0.021505553275346756, -0.028342600911855698, -0.028846850618720055, 0.03835307061672211, -0.017468588426709175, 0.052485305815935135, -0.0748760923743248, -0.03125981613993645, 0.02184155397117138, -0.039895687252283096, -0.008587135933339596, 0.026956582441926003, -0.04849548265337944, 0.011469914577901363, 0.02961820550262928, -0.020572133362293243, 0.013103923760354519, 0.02883332595229149, -3.1941972481122953e-33, 0.06478209793567657, -0.01813015155494213, 0.051790036261081696, 0.12198278307914734, 0.028780119493603706, 0.008722059428691864, -0.07052117586135864, -0.016907330602407455, 0.040739770978689194, 0.04211612045764923, 0.025447208434343338, 0.035746194422245026, -0.049144770950078964, 0.0021291219163686037, -0.01554663386195898, 0.050730690360069275, -0.04818524047732353, 0.035880669951438904, -0.0040669068694114685, 0.1017247885465622, -0.05597008392214775, -0.010681001469492912, 0.011235825717449188, 0.09068655222654343, 0.004234409425407648, 0.035138633102178574, -0.009702814742922783, -0.0938652753829956, 0.09285551309585571, 0.008004944771528244, -0.007705459836870432, -0.0520867295563221, -0.012587925419211388, 0.00326690380461514, 0.006013565696775913, 0.0075815599411726, 0.01051704678684473, -0.08634553849697113, -0.06987879425287247, -0.0025338432751595974, -0.09097655862569809, 0.04688728600740433, 0.05207645148038864, 0.007193919736891985, 0.010903628543019295, -0.005229467526078224, 0.013937389478087425, 0.021968355402350426, 0.03420853614807129, 0.0602247379720211, 0.00011667030048556626, 0.014731962233781815, -0.07008920609951019, 0.028499117121100426, -0.02760162390768528, 0.01076829619705677, 0.03483090177178383, -0.022487880662083626, 0.009769024327397346, 0.07722782343626022, 0.021588388830423355, 0.11495621502399445, -0.06800120323896408, 0.02376098372042179, -0.01598402112722397, -0.01782696694135666, 0.06439494341611862, 0.03202582895755768, 0.050270263105630875, -0.005913690198212862, -0.033708054572343826, 0.017840251326560974, 0.016573384404182434, 0.06329647451639175, 0.034677255898714066, 0.04647345095872879, 0.09790616482496262, -0.006635545287281275, 0.02520707994699478, -0.07798830419778824, 0.01692645438015461, -0.0009458142449147999, 0.022471921518445015, -0.03825320675969124, 0.09570471197366714, -0.005350721068680286, 0.010469107888638973, -0.11524050682783127, -0.013262496329843998, -0.010709472000598907, -0.08311724662780762, 0.07327361404895782, 0.049392227083444595, -0.008994366973638535, -0.09584562480449677, 3.366146357698672e-33, 0.12493176758289337, 0.019349753856658936, -0.05822576582431793, -0.03598829731345177, -0.050746604800224304, -0.04566238820552826, -0.08260344713926315, 0.14819476008415222, -0.08842121064662933, 0.060274388641119, 0.051030177623033524, 0.010303070768713951, 0.14121419191360474, 0.030813826248049736, 0.06103300675749779, -0.05285117030143738, 0.1366489678621292, 0.009189904667437077, -0.017325207591056824, -0.012848639860749245, -0.007995408959686756, -0.050979986786842346, -0.05235062912106514, 0.007592932786792517, -0.01516628172248602, 0.016960330307483673, 0.021270478144288063, 0.020558025687932968, -0.12002812325954437, 0.014461911283433437, 0.026759859174489975, 0.02533065900206566, -0.042754679918289185, 0.00676841801032424, -0.014458544552326202, 0.04526204988360405, -0.09147654473781586, -0.01943919248878956, -0.017833570018410683, -0.0549100823700428, -0.05264107882976532, -0.010459120385348797, -0.05201607942581177, 0.020892027765512466, -0.0799703449010849, -0.012111334130167961, -0.057731445878744125, 0.02317827008664608, -0.008031710982322693, -0.025989342480897903, -0.07995674014091492, -0.02072879672050476, 0.04881763458251953, -0.02038910612463951, -0.049176670610904694, 0.01415963377803564, -0.06362202018499374, -0.00780748063698411, 0.016431570053100586, -0.02568250708281994, 0.01338109839707613, 0.026248851791024208, 0.009978415444493294, 0.06322894245386124, 0.002672104863449931, -0.0065827262587845325, 0.016631953418254852, 0.03236643970012665, 0.037942420691251755, -0.03637610375881195, -0.006910932715982199, 0.0001597370282979682, -0.0016335273394361138, -0.027278224006295204, -0.028038153424859047, 0.04968136176466942, -0.02886725589632988, -0.0024180496111512184, 0.014774953946471214, 0.009764601476490498, 0.005797645542770624, 0.013486200012266636, 0.005567864514887333, 0.03722718730568886, 0.007232454139739275, 0.040156200528144836, 0.08150333911180496, 0.07199162989854813, -0.013056159019470215, -0.042882103472948074, -0.011011234484612942, 0.004897714126855135, -0.009229698218405247, 0.03519153967499733, -0.05103512108325958, -1.5714373802211412e-08, -0.08862440288066864, 0.023909281939268112, -0.016238724812865257, 0.031700488179922104, 0.027284197509288788, 0.05246874690055847, -0.04707101359963417, -0.058847494423389435, -0.06320820748806, 0.04088864475488663, 0.049827996641397476, 0.10655169188976288, -0.07450220733880997, -0.012495473027229309, 0.018370727077126503, 0.03947405144572258, -0.02479797787964344, 0.014516274444758892, -0.037069171667099, 0.020015647634863853, -4.85812961414922e-05, 0.009866569191217422, 0.02483883686363697, -0.052458103746175766, 0.029314197599887848, -0.08719196170568466, -0.014499638229608536, 0.02601918764412403, -0.018746422603726387, -0.07620518654584885, 0.03504328057169914, 0.10363940894603729, -0.028050584718585014, 0.012718292884528637, -0.07632547616958618, -0.018652362748980522, 0.024976762011647224, 0.08144530653953552, 0.06875892728567123, -0.06405659765005112, -0.08389389514923096, 0.06136230379343033, -0.03354550153017044, -0.10615331679582596, -0.04008055850863457, 0.03253016993403435, 0.07662484049797058, -0.07301615923643112, 0.0003375968663021922, -0.04087165743112564, -0.07578844577074051, 0.02752760425209999, 0.07462546229362488, 0.01771737076342106, 0.0912184789776802, 0.11022014170885086, 0.0005698335589841008, 0.05146331712603569, -0.014551335945725441, 0.0332319475710392, 0.02379225380718708, -0.022889798507094383, 0.03893754258751869, 0.030206838622689247]\n"
     ]
    }
   ],
   "source": [
    "print(query_result)"
   ]
  },
  {
   "cell_type": "code",
   "execution_count": 22,
   "metadata": {},
   "outputs": [],
   "source": [
    "pinecone.init(api_key= PINECONE_API_KEY,\n",
    "              environment= PINECONE_API_ENV)\n",
    "\n",
    "index_name  = \"medical-chatbot\"\n",
    "\n",
    "docsearch = Pinecone.from_texts([text.page_content for text in text_chunks], embeddings, index_name=index_name)"
   ]
  },
  {
   "cell_type": "code",
   "execution_count": 24,
   "metadata": {},
   "outputs": [
    {
     "name": "stdout",
     "output_type": "stream",
     "text": [
      "Results:  [Document(page_content=\"GALE ENCYCLOPEDIA OF MEDICINE 2 117Allergies\\nAllergic rhinitis is commonly triggered by\\nexposure to household dust, animal fur,or pollen. The foreign substance thattriggers an allergic reaction is calledan allergen.\\nThe presence of an allergen causes the\\nbody's lymphocytes to begin producingIgE antibodies. The lymphocytes of an allergy sufferer produce an unusuallylarge amount of IgE.\\nIgE molecules attach to mast\\ncells, which contain histamine.HistaminePollen grains\\nLymphocyte\\nFIRST EXPOSURE\", metadata={}), Document(page_content=\"GALE ENCYCLOPEDIA OF MEDICINE 2 117Allergies\\nAllergic rhinitis is commonly triggered by\\nexposure to household dust, animal fur,or pollen. The foreign substance thattriggers an allergic reaction is calledan allergen.\\nThe presence of an allergen causes the\\nbody's lymphocytes to begin producingIgE antibodies. The lymphocytes of an allergy sufferer produce an unusuallylarge amount of IgE.\\nIgE molecules attach to mast\\ncells, which contain histamine.HistaminePollen grains\\nLymphocyte\\nFIRST EXPOSURE\", metadata={}), Document(page_content='allergens are the following:\\n• plant pollens\\n• animal fur and dander\\n• body parts from house mites (microscopic creatures\\nfound in all houses)\\n• house dust• mold spores• cigarette smoke• solvents• cleaners\\nCommon food allergens include the following:\\n• nuts, especially peanuts, walnuts, and brazil nuts\\n• fish, mollusks, and shellfish• eggs• wheat• milk• food additives and preservatives\\nThe following types of drugs commonly cause aller-\\ngic reactions:\\n• penicillin or other antibiotics', metadata={})]\n"
     ]
    }
   ],
   "source": [
    "docsearch = Pinecone.from_existing_index(index_name, embeddings)\n",
    "\n",
    "query = \"What are Allergies\"\n",
    "\n",
    "docs = docsearch.similarity_search(query, k =3)\n",
    "\n",
    "print(\"Results: \", docs)"
   ]
  },
  {
   "cell_type": "code",
   "execution_count": 25,
   "metadata": {},
   "outputs": [],
   "source": [
    "prompt_template = \"\"\"\n",
    "Use the following pieces of information to answer the user's question.\n",
    "If you don't know the answer, just say that you don't know, don't try to make up an answer.\n",
    "\n",
    "Context: {context}\n",
    "Question: {question}\n",
    "\n",
    "Only return the helpful answer below and nothing else\n",
    "Helpful answer:\n",
    "\"\"\""
   ]
  },
  {
   "cell_type": "code",
   "execution_count": 26,
   "metadata": {},
   "outputs": [],
   "source": [
    "PROMPT = PromptTemplate(template= prompt_template, input_variables= [\"context\",\"question\"])\n",
    "chain_type_kwargs = {'prompt' : PROMPT}"
   ]
  },
  {
   "cell_type": "code",
   "execution_count": 28,
   "metadata": {},
   "outputs": [],
   "source": [
    "llm=CTransformers(model=\"../model/llama-2-7b-chat.ggmlv3.q4_0.bin\",\n",
    "                  model_type=\"llama\",\n",
    "                  config={'max_new_tokens':512,\n",
    "                          'temperature':0.8})"
   ]
  },
  {
   "cell_type": "code",
   "execution_count": 29,
   "metadata": {},
   "outputs": [],
   "source": [
    "qa=RetrievalQA.from_chain_type(\n",
    "    llm=llm, \n",
    "    chain_type=\"stuff\", \n",
    "    retriever=docsearch.as_retriever(search_kwargs={'k': 2}),\n",
    "    return_source_documents=True, \n",
    "    chain_type_kwargs=chain_type_kwargs)"
   ]
  },
  {
   "cell_type": "code",
   "execution_count": 31,
   "metadata": {},
   "outputs": [
    {
     "name": "stdout",
     "output_type": "stream",
     "text": [
      "Response :  Acne is a common skin disease characterized by pimples on the face, chest, and back. It occurs when the pores of the skin become clogged with oil, dead skin cells, and bacteria.\n"
     ]
    }
   ],
   "source": [
    "user_input=input(f\"Input Prompt:\")\n",
    "result=qa({\"query\": user_input})\n",
    "print(\"Response : \", result[\"result\"])"
   ]
  },
  {
   "cell_type": "code",
   "execution_count": null,
   "metadata": {},
   "outputs": [],
   "source": []
  }
 ],
 "metadata": {
  "kernelspec": {
   "display_name": "env",
   "language": "python",
   "name": "python3"
  },
  "language_info": {
   "codemirror_mode": {
    "name": "ipython",
    "version": 3
   },
   "file_extension": ".py",
   "mimetype": "text/x-python",
   "name": "python",
   "nbconvert_exporter": "python",
   "pygments_lexer": "ipython3",
   "version": "3.10.11"
  }
 },
 "nbformat": 4,
 "nbformat_minor": 2
}
